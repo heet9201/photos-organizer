{
 "cells": [
  {
   "cell_type": "code",
   "execution_count": 1,
   "id": "3c91f55e",
   "metadata": {},
   "outputs": [
    {
     "name": "stderr",
     "output_type": "stream",
     "text": [
      "/Users/heetdedakiya/Documents/Github/photos-organizer/venv/lib/python3.13/site-packages/face_recognition_models/__init__.py:7: UserWarning: pkg_resources is deprecated as an API. See https://setuptools.pypa.io/en/latest/pkg_resources.html. The pkg_resources package is slated for removal as early as 2025-11-30. Refrain from using this package or pin to Setuptools<81.\n",
      "  from pkg_resources import resource_filename\n"
     ]
    }
   ],
   "source": [
    "# --- face_processing.py (module) ---\n",
    "import os\n",
    "import numpy as np\n",
    "import face_recognition\n",
    "from tqdm import tqdm\n",
    "import logging\n",
    "\n",
    "# Configure logging to print to terminal\n",
    "logger = logging.getLogger(\"autoface\")\n",
    "logger.setLevel(logging.INFO)\n",
    "if not logger.hasHandlers():\n",
    "    handler = logging.StreamHandler()\n",
    "    handler.setFormatter(logging.Formatter('[%(levelname)s] %(message)s'))\n",
    "    logger.addHandler(handler)\n",
    "\n",
    "# --- Load and Process Images ---\n",
    "def load_and_process_images(input_dir):\n",
    "    \"\"\"\n",
    "    Loads images from input_dir, detects faces, and extracts face encodings.\n",
    "    Returns a list of (encoding, image_path) tuples.\n",
    "    \"\"\"\n",
    "    face_data = []\n",
    "    for filename in tqdm(os.listdir(input_dir)):\n",
    "        path = os.path.join(input_dir, filename)\n",
    "        try:\n",
    "            image = face_recognition.load_image_file(path)\n",
    "            locations = face_recognition.face_locations(image)\n",
    "            encodings = face_recognition.face_encodings(image, locations)\n",
    "            for encoding in encodings:\n",
    "                face_data.append((encoding, path))\n",
    "        except Exception as e:\n",
    "            logger.warning(f\"Failed to process {filename}: {e}\")\n",
    "    return face_data"
   ]
  },
  {
   "cell_type": "code",
   "execution_count": 2,
   "id": "c1eb3610",
   "metadata": {},
   "outputs": [
    {
     "name": "stderr",
     "output_type": "stream",
     "text": [
      "[INFO] [1/3] Loading and processing images...\n"
     ]
    },
    {
     "ename": "FileNotFoundError",
     "evalue": "[Errno 2] No such file or directory: 'raw_photos'",
     "output_type": "error",
     "traceback": [
      "\u001b[31m---------------------------------------------------------------------------\u001b[39m",
      "\u001b[31mFileNotFoundError\u001b[39m                         Traceback (most recent call last)",
      "\u001b[36mCell\u001b[39m\u001b[36m \u001b[39m\u001b[32mIn[2]\u001b[39m\u001b[32m, line 28\u001b[39m\n\u001b[32m     25\u001b[39m     logger.info(\u001b[33m\"\u001b[39m\u001b[33mDone!\u001b[39m\u001b[33m\"\u001b[39m)\n\u001b[32m     27\u001b[39m \u001b[38;5;66;03m# Example usage:\u001b[39;00m\n\u001b[32m---> \u001b[39m\u001b[32m28\u001b[39m \u001b[43mrun_autoface_pipeline\u001b[49m\u001b[43m(\u001b[49m\u001b[43m)\u001b[49m\n",
      "\u001b[36mCell\u001b[39m\u001b[36m \u001b[39m\u001b[32mIn[2]\u001b[39m\u001b[32m, line 19\u001b[39m, in \u001b[36mrun_autoface_pipeline\u001b[39m\u001b[34m(input_dir, output_dir)\u001b[39m\n\u001b[32m     17\u001b[39m \u001b[38;5;28;01mdef\u001b[39;00m\u001b[38;5;250m \u001b[39m\u001b[34mrun_autoface_pipeline\u001b[39m(input_dir=\u001b[33m'\u001b[39m\u001b[33mraw_photos\u001b[39m\u001b[33m'\u001b[39m, output_dir=\u001b[33m'\u001b[39m\u001b[33morganized_photos\u001b[39m\u001b[33m'\u001b[39m):\n\u001b[32m     18\u001b[39m     logger.info(\u001b[33m\"\u001b[39m\u001b[33m[1/3] Loading and processing images...\u001b[39m\u001b[33m\"\u001b[39m)\n\u001b[32m---> \u001b[39m\u001b[32m19\u001b[39m     face_data = \u001b[43mload_and_process_images\u001b[49m\u001b[43m(\u001b[49m\u001b[43minput_dir\u001b[49m\u001b[43m)\u001b[49m\n\u001b[32m     20\u001b[39m     logger.info(\u001b[33mf\u001b[39m\u001b[33m\"\u001b[39m\u001b[33mFound \u001b[39m\u001b[38;5;132;01m{\u001b[39;00m\u001b[38;5;28mlen\u001b[39m(face_data)\u001b[38;5;132;01m}\u001b[39;00m\u001b[33m faces in images.\u001b[39m\u001b[33m\"\u001b[39m)\n\u001b[32m     21\u001b[39m     logger.info(\u001b[33m\"\u001b[39m\u001b[33m[2/3] Clustering faces by identity...\u001b[39m\u001b[33m\"\u001b[39m)\n",
      "\u001b[36mCell\u001b[39m\u001b[36m \u001b[39m\u001b[32mIn[1]\u001b[39m\u001b[32m, line 23\u001b[39m, in \u001b[36mload_and_process_images\u001b[39m\u001b[34m(input_dir)\u001b[39m\n\u001b[32m     18\u001b[39m \u001b[38;5;250m\u001b[39m\u001b[33;03m\"\"\"\u001b[39;00m\n\u001b[32m     19\u001b[39m \u001b[33;03mLoads images from input_dir, detects faces, and extracts face encodings.\u001b[39;00m\n\u001b[32m     20\u001b[39m \u001b[33;03mReturns a list of (encoding, image_path) tuples.\u001b[39;00m\n\u001b[32m     21\u001b[39m \u001b[33;03m\"\"\"\u001b[39;00m\n\u001b[32m     22\u001b[39m face_data = []\n\u001b[32m---> \u001b[39m\u001b[32m23\u001b[39m \u001b[38;5;28;01mfor\u001b[39;00m filename \u001b[38;5;129;01min\u001b[39;00m tqdm(\u001b[43mos\u001b[49m\u001b[43m.\u001b[49m\u001b[43mlistdir\u001b[49m\u001b[43m(\u001b[49m\u001b[43minput_dir\u001b[49m\u001b[43m)\u001b[49m):\n\u001b[32m     24\u001b[39m     path = os.path.join(input_dir, filename)\n\u001b[32m     25\u001b[39m     \u001b[38;5;28;01mtry\u001b[39;00m:\n",
      "\u001b[31mFileNotFoundError\u001b[39m: [Errno 2] No such file or directory: 'raw_photos'"
     ]
    }
   ],
   "source": [
    "# from face_processing import load_and_process_images  # already defined in previous cell\n",
    "# Define or paste the cluster_faces function here if not already defined in another cell\n",
    "# Example stub:\n",
    "def cluster_faces(face_data):\n",
    "    # Dummy clustering: assign all faces to cluster 0\n",
    "    return [0] * len(face_data)\n",
    "\n",
    "def organize_photos_by_cluster(face_data, labels, output_dir):\n",
    "    # Dummy implementation: just print what would be organized\n",
    "    print(f\"Organizing {len(face_data)} faces into {len(set(labels))} clusters in '{output_dir}'.\")\n",
    "\n",
    "import logging\n",
    "\n",
    "# --- main.py (pipeline orchestration) ---\n",
    "logger = logging.getLogger(\"autoface\")\n",
    "\n",
    "def run_autoface_pipeline(input_dir='raw_photos', output_dir='organized_photos'):\n",
    "    logger.info(\"[1/3] Loading and processing images...\")\n",
    "    face_data = load_and_process_images(input_dir)\n",
    "    logger.info(f\"Found {len(face_data)} faces in images.\")\n",
    "    logger.info(\"[2/3] Clustering faces by identity...\")\n",
    "    labels = cluster_faces(face_data)\n",
    "    logger.info(\"[3/3] Organizing photos by cluster...\")\n",
    "    organize_photos_by_cluster(face_data, labels, output_dir)\n",
    "    logger.info(\"Done!\")\n",
    "\n",
    "# Example usage:\n",
    "run_autoface_pipeline()"
   ]
  }
 ],
 "metadata": {
  "kernelspec": {
   "display_name": "venv",
   "language": "python",
   "name": "python3"
  },
  "language_info": {
   "codemirror_mode": {
    "name": "ipython",
    "version": 3
   },
   "file_extension": ".py",
   "mimetype": "text/x-python",
   "name": "python",
   "nbconvert_exporter": "python",
   "pygments_lexer": "ipython3",
   "version": "3.13.3"
  }
 },
 "nbformat": 4,
 "nbformat_minor": 5
}
